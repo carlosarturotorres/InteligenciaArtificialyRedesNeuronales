{
  "nbformat": 4,
  "nbformat_minor": 0,
  "metadata": {
    "colab": {
      "name": "Examen-Medio-Curso-IA.ipynb",
      "provenance": []
    },
    "kernelspec": {
      "name": "python3",
      "display_name": "Python 3"
    },
    "language_info": {
      "name": "python"
    }
  },
  "cells": [
    {
      "cell_type": "markdown",
      "metadata": {
        "id": "sy-Gz2X1-C48"
      },
      "source": [
        "# **Ex. Medio Curso | Carlos Arturo Torres Cisneros 1793880 N4-N6 Martes**"
      ]
    },
    {
      "cell_type": "markdown",
      "metadata": {
        "id": "fLYxR_qt96E1"
      },
      "source": [
        "# Desarrollar un código en python para cada uno de los ejercicios:\n",
        "\n",
        "**1.1** El usuario dará un número al azar y el código calculará la suma de todos los números desde el 1 hasta el número dado por el usuario.\n",
        "Ejemplo: el usuario dió el número 4, el código deberá de dar como resultado 10.\n"
      ]
    },
    {
      "cell_type": "code",
      "metadata": {
        "colab": {
          "base_uri": "https://localhost:8080/"
        },
        "id": "nedEKP-U-4-N",
        "outputId": "f4a3e598-42e8-4d1a-a250-592db3892e78"
      },
      "source": [
        "num=int(input(\"Ingresar el numero límite para la sumatoria: \")) #Pedir el numero limite dado por el usuario\n",
        "suma=0 #Inicializar variable suma\n",
        "\n",
        "for x in range(num+1): #Hacer la suma hasta el numero indicado\n",
        "  suma+=x #realizar suma\n",
        "  \n",
        "print(\"Suma: \",suma) #Imprimir resultado"
      ],
      "execution_count": 17,
      "outputs": [
        {
          "output_type": "stream",
          "name": "stdout",
          "text": [
            "Ingresar el numero límite para la sumatoria: 4\n",
            "Suma:  10\n"
          ]
        }
      ]
    },
    {
      "cell_type": "markdown",
      "metadata": {
        "id": "ptJakl1iDwYG"
      },
      "source": [
        "**1.2** Dados el inicio y final de un rango de números, guardar ese rango de números en una lista. Después, imprimir los números que son pares en la lista por medio de uno de los ciclos que vimos en clase. \n",
        "Inicio = 6, final = 31"
      ]
    },
    {
      "cell_type": "code",
      "metadata": {
        "colab": {
          "base_uri": "https://localhost:8080/"
        },
        "id": "AuDu3S1N95e5",
        "outputId": "1c712f4d-5267-4792-c6cb-867b93044853"
      },
      "source": [
        "#Ejercicio 1.2\n",
        "\n",
        "lista=[] #creacion de la lista\n",
        "listanumpares=[] #creacuion de la lista de numeros pares\n",
        "\n",
        "for x in range(6,31+1): #Ciclo con los numeros del rango establecido\n",
        "  lista.append(x) #almacenar datos en la lista \n",
        "  if x%2==0: #Condicion para numeros pares\n",
        "    listanumpares.append(x) #almacenar datos en la lista de numeros pares\n",
        "\n",
        "print(\"Numeros pares: \",listanumpares) #Impresion de la lista con los numeros impares\n",
        "print(\"Rango de numeros: \",lista) #Impresion de la lista con el rango de numeros"
      ],
      "execution_count": 18,
      "outputs": [
        {
          "output_type": "stream",
          "name": "stdout",
          "text": [
            "Numeros pares:  [6, 8, 10, 12, 14, 16, 18, 20, 22, 24, 26, 28, 30]\n",
            "Rango de numeros:  [6, 7, 8, 9, 10, 11, 12, 13, 14, 15, 16, 17, 18, 19, 20, 21, 22, 23, 24, 25, 26, 27, 28, 29, 30, 31]\n"
          ]
        }
      ]
    }
  ]
}