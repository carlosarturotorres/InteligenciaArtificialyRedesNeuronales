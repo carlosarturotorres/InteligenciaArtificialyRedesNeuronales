{
  "nbformat": 4,
  "nbformat_minor": 0,
  "metadata": {
    "colab": {
      "name": "IA_Ejercicio2_CarlosT_1793880.ipynb",
      "provenance": [],
      "collapsed_sections": []
    },
    "kernelspec": {
      "name": "python3",
      "display_name": "Python 3"
    },
    "language_info": {
      "name": "python"
    }
  },
  "cells": [
    {
      "cell_type": "markdown",
      "metadata": {
        "id": "U6baQSonafVS"
      },
      "source": [
        "Actividad 2.- Ejercicios Introducción Python |\n",
        "Carlos Arturo Torres Cisneros 1793880 N4-N6 Martes\n",
        "\n",
        "\n"
      ]
    },
    {
      "cell_type": "markdown",
      "metadata": {
        "id": "FxBJ5DP5IURU"
      },
      "source": [
        "Ejercicio 1:\n",
        "\n",
        "Crear un programa que pregunte al usuario por su nombre, edad, una frase favorita y autor de la frase favorita. El programa deberá de imprimir un mensaje compuesto por el nombre y edad del usuario diciendo que su frase favorita es la que dió anteriormente y el autor de dicha frase es el nombre previamente dado. Aquí habrá que realizar una concatenación de variables."
      ]
    },
    {
      "cell_type": "code",
      "metadata": {
        "colab": {
          "base_uri": "https://localhost:8080/"
        },
        "id": "uznhTUdYH-OH",
        "outputId": "1ac95471-43f7-4082-8e1c-28a7e7e003be"
      },
      "source": [
        "#Declaracion de variables y obtencion de datos\n",
        "nombre = str(input(\"Digite su nombre: \"))\n",
        "edad = str(input(\"Digite su edad: \"))\n",
        "frase = str(input(\"Digite su frase favorita:\"))\n",
        "autor = str(input(\"Digite el autor de la frase favorita: \"))\n",
        "'''Espacio'''\n",
        "print(\"\\n\")\n",
        "#Imppresion de los datos de dos formas\n",
        "print(f\"{nombre} {edad} años: {frase} ,\"{autor}\" )\n",
        "print(\"Nombre: \"+ (nombre) + \" Edad: \"+ (edad) + \" años,\" + \" Frase: \" + (frase) + \" ,Autor: \"+ (autor))"
      ],
      "execution_count": 48,
      "outputs": [
        {
          "output_type": "stream",
          "text": [
            "Digite su nombre: Arturo\n",
            "Digite su edad: 21\n",
            "Digite su frase favorita:Pocos ven lo que somos, pero todos ven lo que aparentamos\n",
            "Digite el autor de la frase favorita: Maquiavelo\n",
            "\n",
            "\n",
            "Arturo 21 años: Pocos ven lo que somos, pero todos ven lo que aparentamos ,Maquiavelo\n",
            "Nombre: Arturo Edad: 21 años, Frase: Pocos ven lo que somos, pero todos ven lo que aparentamos ,Autor: Maquiavelo\n"
          ],
          "name": "stdout"
        }
      ]
    },
    {
      "cell_type": "markdown",
      "metadata": {
        "id": "zRNib4qrSXbi"
      },
      "source": [
        "Ejercicio 2: \n",
        "\n",
        "Crear un programa que le pida al usuario capturar dos números enteros y dos números flotantes. Después, realizará la suma, resta, multiplicación y división, de ambos pares de números. Como resultado se deberán de obtener 8 valores. Imprimir todos estos reultados."
      ]
    },
    {
      "cell_type": "code",
      "metadata": {
        "colab": {
          "base_uri": "https://localhost:8080/"
        },
        "id": "xIfPwdlpSbbv",
        "outputId": "33f883be-bb4d-4a31-c6d3-980ac7c750b4"
      },
      "source": [
        "#Declaracion de variables tipo int y float, y obtencion de los numeros\n",
        "num1 = int(input(\"Digite el primer numero entero: \"))\n",
        "num2 = int(input(\"Digite el segundo numero entero: \"))\n",
        "num3 = float(input(\"Digite el tercer numero flotante: \"))\n",
        "num4 = float(input(\"Digite el cuarto flotante: \"))\n",
        "\n",
        "#Operaciones de los numeros enteros\n",
        "suma1 = num1 + num2\n",
        "resta1 = num1 - num2\n",
        "mult1 = num1 * num2\n",
        "div1 = num1 / num2\n",
        "\n",
        "#Operaciones de los numeros flotantes\n",
        "suma2 = num3 + num4\n",
        "resta2 = num3 - num4\n",
        "mult2 = num3 * num4\n",
        "div2 = num3 / num4\n",
        "\n",
        "#Impresiones de los resultados de los numeros enteros\n",
        "print(\"\\n\")\n",
        "print(\"Operaciones de los numeros enteros\")\n",
        "print(f\"Suma de numeros enteros: {suma1}\")\n",
        "print(f\"Resta de numeros enteros: {resta1}\" )\n",
        "print(f\"Multiplicacion de numeros enteros: {mult1}\")\n",
        "print(f\"Division de numeros enteros: {div1}\")\n",
        "\n",
        "#Impresiones de los resultados de los numeros flotantes\n",
        "print(\"\\n\")\n",
        "print(\"Operaciones de los numeros flotantes\")\n",
        "print(f\"Suma de numeros flotantes: {suma2}\")\n",
        "print(f\"Resta de numeros flotantes: {resta2}\")\n",
        "print(f\"Multiplicacion de numeros flotantes: {mult2}\")\n",
        "print(f\"Division de numeros flotantes: {div2}\")"
      ],
      "execution_count": 49,
      "outputs": [
        {
          "output_type": "stream",
          "text": [
            "Digite el primer numero entero: 2\n",
            "Digite el segundo numero entero: 3\n",
            "Digite el tercer numero flotante: 4.5\n",
            "Digite el cuarto flotante: 3.5\n",
            "\n",
            "\n",
            "Operaciones de los numeros enteros\n",
            "Suma de numeros enteros: 5\n",
            "Resta de numeros enteros: -1\n",
            "Multiplicacion de numeros enteros: 6\n",
            "Division de numeros enteros: 0.6666666666666666\n",
            "\n",
            "\n",
            "Operaciones de los numeros flotantes\n",
            "Suma de numeros flotantes: 8.0\n",
            "Resta de numeros flotantes: 1.0\n",
            "Multiplicacion de numeros flotantes: 15.75\n",
            "Division de numeros flotantes: 1.2857142857142858\n"
          ],
          "name": "stdout"
        }
      ]
    },
    {
      "cell_type": "markdown",
      "metadata": {
        "id": "8mYVJtJMXTTy"
      },
      "source": [
        "Ejercicio 3:\n",
        "\n",
        "Crear un programa que evalúe dos expresiones lógicas con `and`, dos con `or` y dos con `not`. Cada expresión deberá hacer uso de operadores de comparación."
      ]
    },
    {
      "cell_type": "code",
      "metadata": {
        "colab": {
          "base_uri": "https://localhost:8080/"
        },
        "id": "wDr2In4EXWYo",
        "outputId": "8bcddfe5-31fe-4821-85a9-a83e61be822d"
      },
      "source": [
        "#Declaracion de las variables con un valor predeterminado\n",
        "a= 10\n",
        "b= 15\n",
        "c= 20\n",
        "\n",
        "#Expresiones con el operador AND\n",
        "res1 = (a<b)and(b<c)\n",
        "res2 = (b<a)and(b<c)\n",
        "\n",
        "#Expresiones con el operador OR\n",
        "res3 = (b<a)or(b<c)\n",
        "res4 = (a<=a)or(c<a)\n",
        "\n",
        "#Expresiones con el operador NOT\n",
        "res5 = not ((a>=c))\n",
        "res6 = not (((a<b)and(b<c)))\n",
        "\n",
        "#Impresion de resultados con el operador AND\n",
        "print(\"Expresiones logicas AND\")\n",
        "print(f\"(a<b)and(b<c): {res1}\")\n",
        "print(f\"(b<a)and(b<c): {res2}\\n\")\n",
        "\n",
        "#Impresion de resultados con el operador OR\n",
        "print(\"Expresiones logicas OR\")\n",
        "print(f\"(b<a)or(b<c): {res3}\")\n",
        "print(f\"(a<=a)or(c<a): {res4}\\n\")\n",
        "\n",
        "#Impresion de resultados con el operador NOT\n",
        "print(\"Expresiones logicas NOT\")\n",
        "print(f\"not((a>=c)): {res4}\")\n",
        "print(f\"not (((a<b)and(b<c))): {res6}\")"
      ],
      "execution_count": 50,
      "outputs": [
        {
          "output_type": "stream",
          "text": [
            "Expresiones logicas AND\n",
            "(a<b)and(b<c): True\n",
            "(b<a)and(b<c): False\n",
            "\n",
            "Expresiones logicas OR\n",
            "(b<a)or(b<c): True\n",
            "(a<=a)or(c<a): True\n",
            "\n",
            "Expresiones logicas NOT\n",
            "not((a>=c)): True\n",
            "not (((a<b)and(b<c))): False\n"
          ],
          "name": "stdout"
        }
      ]
    }
  ]
}