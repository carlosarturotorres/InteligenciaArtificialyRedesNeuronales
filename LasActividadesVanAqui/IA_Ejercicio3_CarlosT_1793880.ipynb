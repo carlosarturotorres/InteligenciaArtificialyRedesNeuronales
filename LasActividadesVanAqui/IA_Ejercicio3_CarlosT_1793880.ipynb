{
  "nbformat": 4,
  "nbformat_minor": 0,
  "metadata": {
    "colab": {
      "name": "IA_Ejercicio3_CarlosT_1793880.ipynb",
      "provenance": []
    },
    "kernelspec": {
      "name": "python3",
      "display_name": "Python 3"
    },
    "language_info": {
      "name": "python"
    }
  },
  "cells": [
    {
      "cell_type": "markdown",
      "metadata": {
        "id": "xydQC4yLeyDS"
      },
      "source": [
        "# **Actividad 3.- Ejercicios Introducción Python, 2da parte | Carlos Arturo Torres Cisneros 1793880 N4-N6 Martes**"
      ]
    },
    {
      "cell_type": "markdown",
      "metadata": {
        "id": "lJSOEoRodymy"
      },
      "source": [
        "# **Ejercicio 1**\n",
        "\n",
        "**1.1** Piensa en 7 comidas diferente que te gusten. Implementa un programa que pregunte por las 7 comidas, las almacene en una lista y que posteriermente imprima cada una de ellas utilizando uno de los ciclos comentados en clase. \n"
      ]
    },
    {
      "cell_type": "code",
      "metadata": {
        "id": "lo3ov7t_dPpT",
        "colab": {
          "base_uri": "https://localhost:8080/"
        },
        "outputId": "86274630-29dd-49cb-89d8-468837d6567c"
      },
      "source": [
        "lista = [] #lista de comida\n",
        "for i in range(7): #almacenar 7 comidas \n",
        "    lista.append(input(\"Ingresa una de tus comidas favoritas:\")) #almacenar datos en la lista\n",
        "print(' ')\n",
        "print(\"lista:\",lista) #imprimir la lista\n",
        "print(' ')\n",
        "for i in lista: #imprimir cada uno de los datos de la lista\n",
        "  print(i) #imprimir cada uno de los datos de la lista"
      ],
      "execution_count": 19,
      "outputs": [
        {
          "output_type": "stream",
          "name": "stdout",
          "text": [
            "Ingresa una de tus comidas favoritas:Tacos\n",
            "Ingresa una de tus comidas favoritas:Enchiladas\n",
            "Ingresa una de tus comidas favoritas:Sushi\n",
            "Ingresa una de tus comidas favoritas:Ramen\n",
            "Ingresa una de tus comidas favoritas:Pasta\n",
            "Ingresa una de tus comidas favoritas:Cereal\n",
            "Ingresa una de tus comidas favoritas:Carne\n",
            " \n",
            "lista: ['Tacos', 'Enchiladas', 'Sushi', 'Ramen', 'Pasta', 'Cereal', 'Carne']\n",
            " \n",
            "Tacos\n",
            "Enchiladas\n",
            "Sushi\n",
            "Ramen\n",
            "Pasta\n",
            "Cereal\n",
            "Carne\n"
          ]
        }
      ]
    },
    {
      "cell_type": "markdown",
      "metadata": {
        "id": "3JL6xZT2WdNR"
      },
      "source": [
        "**1.2** Modifica el ejercicio 1.1 para que imprima cada una de las comidas favoritas junto con una oracición inicial: \"Una de mis comidas favoritas es [comida1]\". "
      ]
    },
    {
      "cell_type": "code",
      "metadata": {
        "colab": {
          "base_uri": "https://localhost:8080/"
        },
        "id": "fEQXTJUpkNTx",
        "outputId": "50326dc4-aa0d-4dce-a4ce-c0d1436099a7"
      },
      "source": [
        "lista = [] #lista de comida\n",
        "for i in range(7): #almacenar 7 comidas \n",
        "    lista.append(input(\"Ingresa una de tus comidas favoritas:\")) #almacenar datos en la lista\n",
        "print(' ')\n",
        "print(\"lista:\",lista) #imprimir la lista\n",
        "print(' ')\n",
        "for i in lista: #imprimir cada uno de los datos de la lista\n",
        "  print(\"Una de mis comidas favoritas es: \", i) #imprimir cada uno de los datos de la lista junto con un comentario"
      ],
      "execution_count": 18,
      "outputs": [
        {
          "output_type": "stream",
          "name": "stdout",
          "text": [
            "Ingresa una de tus comidas favoritas:Mole\n",
            "Ingresa una de tus comidas favoritas:Sopa\n",
            "Ingresa una de tus comidas favoritas:Pizza\n",
            "Ingresa una de tus comidas favoritas:Tacos\n",
            "Ingresa una de tus comidas favoritas:Tamales\n",
            "Ingresa una de tus comidas favoritas:Menudo\n",
            "Ingresa una de tus comidas favoritas:Pan\n",
            " \n",
            "lista: ['Mole', 'Sopa', 'Pizza', 'Tacos', 'Tamales', 'Menudo', 'Pan']\n",
            " \n",
            "Una de mis comidas favoritas es:  Mole\n",
            "Una de mis comidas favoritas es:  Sopa\n",
            "Una de mis comidas favoritas es:  Pizza\n",
            "Una de mis comidas favoritas es:  Tacos\n",
            "Una de mis comidas favoritas es:  Tamales\n",
            "Una de mis comidas favoritas es:  Menudo\n",
            "Una de mis comidas favoritas es:  Pan\n"
          ]
        }
      ]
    },
    {
      "cell_type": "markdown",
      "metadata": {
        "id": "fTKIiu5vd06J"
      },
      "source": [
        "# **Ejercicio 2**\n",
        "\n",
        "Crear un juego de piedra, papel o tijera de dos jugadores. El programa preguntará por la opción del jugador 1 y la opción del jugador 2 y dará como resultado quien ganó el juego. *italicized text* "
      ]
    },
    {
      "cell_type": "code",
      "metadata": {
        "id": "fwoc8G2dd1bx",
        "colab": {
          "base_uri": "https://localhost:8080/"
        },
        "outputId": "27907857-aa27-4b76-ad21-7a7584bd1200"
      },
      "source": [
        "#Piedra, papel o tijera\n",
        "print(\"Juego piedra, papel o tijera \\n\") #imprimir nombre del juego\n",
        "print(\" 1. Piedra\\n\",\"2. Papel\\n\",\"3. Tijera\\n\") #imprimir el menu de opciones\n",
        "opcionj1 = int(input(\"Jugador 1, Igrese su opcion: \")) #pedir al jugador 1 que ingrese su opcion\n",
        "\n",
        "if opcionj1 == 1: #Si el usuario ingresa 1 significa que eligio piedra y almacena su opcion en una nueva variable\n",
        "  j1 = \"Piedra\"\n",
        "elif opcionj1 == 2: #Si el usuario ingresa 2 significa que eligio papel y almacena su opcion en una nueva variable\n",
        "  j1 = \"Papel\"\n",
        "elif opcionj1 == 3: #Si el usuario ingresa 3 significa que eligio Tijera y almacena su opcion en una nueva variable\n",
        "  j1 = \"Tijera\"\n",
        "print(\"El jugador 1 eligio: \", j1) #imprimir opcion elegida por el jugador 1\n",
        "print(' ')\n",
        "\n",
        "opcionj2 = int(input(\"Jugador 2, Igrese su opcion: \"))  #pedir al jugador 2 que ingrese su opcion\n",
        "if opcionj2 == 1: #Si el usuario ingresa 1 significa que eligio piedra y almacena su opcion en una nueva variablea\n",
        "  j2 = \"Piedra\"\n",
        "elif opcionj2 == 2: #Si el usuario ingresa 2 significa que eligio papel y almacena su opcion en una nueva variable\n",
        "  j2 = \"Papel\"\n",
        "elif opcionj2 == 3: #Si el usuario ingresa 3 significa que eligio Tijera y almacena su opcion en una nueva variable\n",
        "  j2 = \"Tijera\"\n",
        "print(\"El jugador 2 eligio: \", j2) #imprimir opcion elegida por el jugador 2\n",
        "print(' ')\n",
        "\n",
        "if j1 == \"Piedra\" and j2 ==\"Papel\": #escenario 1\n",
        "  print(\"Gana el jugador 2, El papel envuelve a la piedra\") #imprimir resultado\n",
        "if j1 == \"Piedra\" and j2 ==\"Tijera\": #escenario 2\n",
        "  print(\"Gana el jugador 1, La piedra rompe la tijera\") #imprimir resultado\n",
        "if j1 == \"Papel\" and j2 ==\"Piedra\": #escenario 3\n",
        "  print(\"Gana el jugador 1, El papel envuelve a la piedra\") #imprimir resultado\n",
        "if j1 == \"Papel\" and j2 ==\"Tijera\": #escenario 4\n",
        "  print(\"Gana el jugador 2, La tijera corta el papel\") #imprimir resultado\n",
        "if j1 == \"Tijera\" and j2 ==\"Piedra\": #escenario 5\n",
        "  print(\"Gana el jugador 2, La piedra rompe la tijera\") #imprimir resultado\n",
        "if j1 == \"Tijera\" and j2 ==\"Papel\": #escenario 6\n",
        "  print(\"Gana el jugador 1, La tijera corta el papel\") #imprimir resultado\n",
        "if j1 == j2: #si las opciones son iguales significa empate\n",
        "  print(\"Empate\") #imprimir resultado"
      ],
      "execution_count": 17,
      "outputs": [
        {
          "output_type": "stream",
          "name": "stdout",
          "text": [
            "Juego piedra, papel o tijera \n",
            "\n",
            " 1. Piedra\n",
            " 2. Papel\n",
            " 3. Tijera\n",
            "\n",
            "Jugador 1, Igrese su opcion: 2\n",
            "El jugador 1 eligio:  Papel\n",
            " \n",
            "Jugador 2, Igrese su opcion: 3\n",
            "El jugador 2 eligio:  Tijera\n",
            " \n",
            "Gana el jugador 2, La tijera corta el papel\n"
          ]
        }
      ]
    },
    {
      "cell_type": "markdown",
      "metadata": {
        "id": "MPWR_KEid1xp"
      },
      "source": [
        "# **Ejercicio 3**\n",
        "\n",
        "Implementar un programa que imprima el siguiente patron:\n",
        "\n",
        "123456 \n",
        "12345\n",
        "1234\n",
        "123\n",
        "12\n",
        "1\n",
        "12\n",
        "123\n",
        "1234\n",
        "12345\n",
        "123456"
      ]
    },
    {
      "cell_type": "code",
      "metadata": {
        "colab": {
          "base_uri": "https://localhost:8080/"
        },
        "id": "fL3nJvJ0Y1gQ",
        "outputId": "8e114fe5-3fed-40b4-e63b-ffaec98cd5af"
      },
      "source": [
        "filas = 6 #número de filas del patrón\n",
        "for i in range(filas, 1, -1): #eliminar una de las filas\n",
        "    for j in range(1, i + 1): #avanza la iteración de las filas\n",
        "        print(j, end=' ') #imprimir\n",
        "    print('') \n",
        "for i in range(1, filas + 1): #agregar una de las filas\n",
        "    for j in range(1, i + 1): #avanzar la iteración de las filas\n",
        "        print(j, end=' ') #imprimir\n",
        "    print('') "
      ],
      "execution_count": 5,
      "outputs": [
        {
          "output_type": "stream",
          "name": "stdout",
          "text": [
            "1 2 3 4 5 6 \n",
            "1 2 3 4 5 \n",
            "1 2 3 4 \n",
            "1 2 3 \n",
            "1 2 \n",
            "1 \n",
            "1 2 \n",
            "1 2 3 \n",
            "1 2 3 4 \n",
            "1 2 3 4 5 \n",
            "1 2 3 4 5 6 \n"
          ]
        }
      ]
    },
    {
      "cell_type": "code",
      "metadata": {
        "id": "wmac4Wp6d1-p",
        "colab": {
          "base_uri": "https://localhost:8080/"
        },
        "outputId": "61f08c3c-39cb-46cc-9303-99f503a58a56"
      },
      "source": [
        "patron =[\"123456\",\"12345\",\"1234\",\"123\",\"12\",\"1\",\"12\",\"123\",\"1234\",\"12345\",\"123456\"]  #guardar el patron en una lista\n",
        "for x in patron: #imprimir el patron contenido en una lista\n",
        "  print(x)"
      ],
      "execution_count": null,
      "outputs": [
        {
          "output_type": "stream",
          "name": "stdout",
          "text": [
            "123456\n",
            "12345\n",
            "1234\n",
            "123\n",
            "12\n",
            "1\n",
            "12\n",
            "123\n",
            "1234\n",
            "12345\n",
            "123456\n"
          ]
        }
      ]
    }
  ]
}